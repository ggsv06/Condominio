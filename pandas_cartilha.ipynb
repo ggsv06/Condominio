{
 "cells": [
  {
   "cell_type": "code",
   "execution_count": null,
   "metadata": {},
   "outputs": [],
   "source": [
    "import pandas as pd"
   ]
  },
  {
   "cell_type": "markdown",
   "metadata": {},
   "source": [
    "Criando um Data Frame a partir de um dicionário do python  "
   ]
  },
  {
   "cell_type": "code",
   "execution_count": null,
   "metadata": {},
   "outputs": [],
   "source": [
    "# dataframe = pd.DataFrame()\n",
    "vendas = {'Data': ['15/02/2021', '16/02/2021'],\n",
    "          'valor': [500, 300],\n",
    "          'produto': ['feijão','arroz'],\n",
    "          'qtde': [50, 70],\n",
    "          }\n",
    "df_vendas = pd.DataFrame(vendas)"
   ]
  },
  {
   "cell_type": "markdown",
   "metadata": {},
   "source": [
    "Visualização do data frame\n",
    "- print\n",
    "- display"
   ]
  },
  {
   "cell_type": "code",
   "execution_count": null,
   "metadata": {},
   "outputs": [],
   "source": [
    "print(f'{df_vendas}\\n')\n",
    "display(df_vendas)"
   ]
  },
  {
   "cell_type": "markdown",
   "metadata": {},
   "source": [
    "----- Importando arquivos -----\n",
    "- número após a vírgula representa qual a planilha do arquivo"
   ]
  },
  {
   "cell_type": "code",
   "execution_count": null,
   "metadata": {},
   "outputs": [],
   "source": [
    "df_dados = pd.read_excel('Dados_cartilha.xlsx', 0)\n",
    "display(df_dados)\n",
    "\n",
    "df_diferenca = pd.read_excel('Dados_cartilha.xlsx', 1)\n",
    "df_fator = pd.read_excel('Dados_cartilha.xlsx', 2)"
   ]
  },
  {
   "cell_type": "markdown",
   "metadata": {},
   "source": [
    "---- Visualização de dados simples e úteis ---- \n",
    "\n",
    "- head (mostra 5 primeiras linhas) / .head(n) / n = número de linhas que deseja\n",
    "- shape / mostra a quantidade de linhas e colunas\n",
    "- describe / estatístico. Pega todas as colunas numéricas e descreve informações / mean: média / std: desvio padrão / min / max / "
   ]
  },
  {
   "cell_type": "code",
   "execution_count": null,
   "metadata": {},
   "outputs": [],
   "source": [
    "display(df_dados.head())\n",
    "print(df_dados.shape)\n",
    "display(df_dados.describe())"
   ]
  },
  {
   "cell_type": "markdown",
   "metadata": {},
   "source": [
    "---- Visualizar colunas ----"
   ]
  },
  {
   "cell_type": "code",
   "execution_count": 165,
   "metadata": {},
   "outputs": [
    {
     "name": "stdout",
     "output_type": "stream",
     "text": [
      "Index(['Galpões', 'Tipo de imovel', 'Dez anterior', 'Jan', 'Fev', 'Mar', 'Abr',\n",
      "       'Mai', 'Jun', 'Jul', 'Ago', 'Set', 'Out', 'Nov', 'Dez'],\n",
      "      dtype='object')\n"
     ]
    }
   ],
   "source": [
    "colunas = df_dados.columns\n",
    "print(colunas)"
   ]
  },
  {
   "cell_type": "markdown",
   "metadata": {},
   "source": [
    "---- Pegar 1 ou mais colunas (e os pd.Series) ----"
   ]
  },
  {
   "cell_type": "code",
   "execution_count": 168,
   "metadata": {},
   "outputs": [
    {
     "name": "stdout",
     "output_type": "stream",
     "text": [
      "0                 Galpão 1 - Abaixo de Zero - A79B53393\n",
      "1                          Galpão 2 - Masp - A99L488883\n",
      "2                                 Galpão 3 - A99L488885\n",
      "3                 Galpão 4 - Metal Printing  A99L488887\n",
      "4          Galpão - Marcenaria/Serralheria - A06L081235\n",
      "5                  Galpão 5 - Reservatório - A031247101\n",
      "6     Galpão 5 - Piso Superior e WC térreo - A06L135363\n",
      "7                   Galpão 6 - Piso Térreo - A06L081233\n",
      "8            Galpão 6 - Piso Intermediário - A06L135275\n",
      "9                 Galpão 6 - Piso Superior - A06L135367\n",
      "10                Galpão 7 - Piso Inferior - A09S372865\n",
      "11                Galpão 7 - Piso Superior - A09S372869\n",
      "12    Galpão 8 - Nek Packing - Piso Inferior - A09S3...\n",
      "13                 Galpão 8 - Piso Superior - A79B54592\n",
      "14                                Galpão 9 - A21H515626\n",
      "15               Galpão 10 - Metal Printing  A13L080158\n",
      "16    Galpão 11 - Metal Printing - R. de Incêndio A1...\n",
      "17                                           Galpão 13 \n",
      "18                            Casa Caseiro - A06L081234\n",
      "19                            Depósito G12 - A03L247101\n",
      "20              Chácara Colina (Sr° Mario) - A99L488888\n",
      "21                     Chácara Colina Fundos - 79B54592\n",
      "22                        Chácara São José - A01L097304\n",
      "23                         Chácara Manacás - A02L273774\n",
      "24        Sala de Confraternização Manacás - A03L247100\n",
      "25                                Lava-Car - A02L273769\n",
      "26                                  Poço 1 - A08L186679\n",
      "27                                  Poço 2 - B12S016596\n",
      "28                                  Poço 3 - AO9L069981\n",
      "Name: Galpões, dtype: object\n"
     ]
    },
    {
     "data": {
      "text/html": [
       "<div>\n",
       "<style scoped>\n",
       "    .dataframe tbody tr th:only-of-type {\n",
       "        vertical-align: middle;\n",
       "    }\n",
       "\n",
       "    .dataframe tbody tr th {\n",
       "        vertical-align: top;\n",
       "    }\n",
       "\n",
       "    .dataframe thead th {\n",
       "        text-align: right;\n",
       "    }\n",
       "</style>\n",
       "<table border=\"1\" class=\"dataframe\">\n",
       "  <thead>\n",
       "    <tr style=\"text-align: right;\">\n",
       "      <th></th>\n",
       "      <th>Mai</th>\n",
       "      <th>Jun</th>\n",
       "    </tr>\n",
       "  </thead>\n",
       "  <tbody>\n",
       "    <tr>\n",
       "      <th>0</th>\n",
       "      <td>25518.50</td>\n",
       "      <td>25587.10</td>\n",
       "    </tr>\n",
       "    <tr>\n",
       "      <th>1</th>\n",
       "      <td>10495.76</td>\n",
       "      <td>10543.63</td>\n",
       "    </tr>\n",
       "    <tr>\n",
       "      <th>2</th>\n",
       "      <td>9442.33</td>\n",
       "      <td>9442.33</td>\n",
       "    </tr>\n",
       "    <tr>\n",
       "      <th>3</th>\n",
       "      <td>10528.49</td>\n",
       "      <td>10571.48</td>\n",
       "    </tr>\n",
       "    <tr>\n",
       "      <th>4</th>\n",
       "      <td>1712.07</td>\n",
       "      <td>1715.39</td>\n",
       "    </tr>\n",
       "  </tbody>\n",
       "</table>\n",
       "</div>"
      ],
      "text/plain": [
       "        Mai       Jun\n",
       "0  25518.50  25587.10\n",
       "1  10495.76  10543.63\n",
       "2   9442.33   9442.33\n",
       "3  10528.49  10571.48\n",
       "4   1712.07   1715.39"
      ]
     },
     "metadata": {},
     "output_type": "display_data"
    },
    {
     "data": {
      "text/html": [
       "<div>\n",
       "<style scoped>\n",
       "    .dataframe tbody tr th:only-of-type {\n",
       "        vertical-align: middle;\n",
       "    }\n",
       "\n",
       "    .dataframe tbody tr th {\n",
       "        vertical-align: top;\n",
       "    }\n",
       "\n",
       "    .dataframe thead th {\n",
       "        text-align: right;\n",
       "    }\n",
       "</style>\n",
       "<table border=\"1\" class=\"dataframe\">\n",
       "  <thead>\n",
       "    <tr style=\"text-align: right;\">\n",
       "      <th></th>\n",
       "      <th>Galpões</th>\n",
       "      <th>Tipo de imovel</th>\n",
       "      <th>Jan</th>\n",
       "      <th>Fev</th>\n",
       "      <th>Mar</th>\n",
       "    </tr>\n",
       "  </thead>\n",
       "  <tbody>\n",
       "    <tr>\n",
       "      <th>0</th>\n",
       "      <td>Galpão 1 - Abaixo de Zero - A79B53393</td>\n",
       "      <td>Industrial</td>\n",
       "      <td>25247.40</td>\n",
       "      <td>25314.90</td>\n",
       "      <td>25389.70</td>\n",
       "    </tr>\n",
       "    <tr>\n",
       "      <th>1</th>\n",
       "      <td>Galpão 2 - Masp - A99L488883</td>\n",
       "      <td>Industrial</td>\n",
       "      <td>10327.12</td>\n",
       "      <td>10364.16</td>\n",
       "      <td>10408.98</td>\n",
       "    </tr>\n",
       "    <tr>\n",
       "      <th>2</th>\n",
       "      <td>Galpão 3 - A99L488885</td>\n",
       "      <td>Industrial</td>\n",
       "      <td>9442.32</td>\n",
       "      <td>9442.33</td>\n",
       "      <td>9442.33</td>\n",
       "    </tr>\n",
       "    <tr>\n",
       "      <th>3</th>\n",
       "      <td>Galpão 4 - Metal Printing  A99L488887</td>\n",
       "      <td>Industrial</td>\n",
       "      <td>10327.17</td>\n",
       "      <td>10374.33</td>\n",
       "      <td>10415.94</td>\n",
       "    </tr>\n",
       "    <tr>\n",
       "      <th>5</th>\n",
       "      <td>Galpão 5 - Reservatório - A031247101</td>\n",
       "      <td>Industrial</td>\n",
       "      <td>4633.29</td>\n",
       "      <td>4633.30</td>\n",
       "      <td>4648.79</td>\n",
       "    </tr>\n",
       "  </tbody>\n",
       "</table>\n",
       "</div>"
      ],
      "text/plain": [
       "                                 Galpões Tipo de imovel       Jan       Fev  \\\n",
       "0  Galpão 1 - Abaixo de Zero - A79B53393     Industrial  25247.40  25314.90   \n",
       "1           Galpão 2 - Masp - A99L488883     Industrial  10327.12  10364.16   \n",
       "2                  Galpão 3 - A99L488885     Industrial   9442.32   9442.33   \n",
       "3  Galpão 4 - Metal Printing  A99L488887     Industrial  10327.17  10374.33   \n",
       "5   Galpão 5 - Reservatório - A031247101     Industrial   4633.29   4633.30   \n",
       "\n",
       "        Mar  \n",
       "0  25389.70  \n",
       "1  10408.98  \n",
       "2   9442.33  \n",
       "3  10415.94  \n",
       "5   4648.79  "
      ]
     },
     "metadata": {},
     "output_type": "display_data"
    }
   ],
   "source": [
    "galpões = df_dados['Galpões']\n",
    "print(galpões)\n",
    "\n",
    "df_dois_meses = df_dados[['Mai', 'Jun']]\n",
    "display(df_dois_meses.head())\n",
    "\n",
    "df_dados_industriais = df_dados.loc[df_dados['Tipo de imovel'] == 'Industrial', ['Galpões', 'Tipo de imovel', 'Jan', 'Fev', 'Mar']]\n",
    "display(df_dados_industriais.head())\n"
   ]
  },
  {
   "cell_type": "markdown",
   "metadata": {},
   "source": [
    "---- Pegar 1 célula ----"
   ]
  },
  {
   "cell_type": "code",
   "execution_count": null,
   "metadata": {},
   "outputs": [],
   "source": [
    "celula = df_dados.loc[6, 'Galpões']\n",
    "display(celula) "
   ]
  },
  {
   "cell_type": "markdown",
   "metadata": {},
   "source": [
    "---- Fórmulas do excel ----"
   ]
  },
  {
   "cell_type": "code",
   "execution_count": null,
   "metadata": {},
   "outputs": [],
   "source": [
    "df_diferenca['Jan'] = df_dados['Jan'] - df_dados['Dez 2023']\n",
    "display(df_diferenca.head())\n",
    "\n",
    "\n",
    "df_diferenca.loc[df_diferenca['Jan'] < df_fator.loc[0,'VOLUME MAX ÁGUA m3'], 'Fev'] = df_fator.loc[0,'FATOR INDUSTRIAL']\n",
    "display(df_diferenca.head())"
   ]
  },
  {
   "cell_type": "markdown",
   "metadata": {},
   "source": [
    "---- Modificar 1 ou mais células ----"
   ]
  },
  {
   "cell_type": "code",
   "execution_count": null,
   "metadata": {},
   "outputs": [],
   "source": [
    "# Modificando uma célula em específico\n",
    "df_dados.loc[0, 'Dez'] = 123456\n",
    "display(df_dados.head())\n",
    "\n",
    "# Modificando mais de uma célula a partir de condições\n",
    "df_fator.loc[df_fator['TIPO DE FATOR'] == 'Multiplicador','FATOR INDUSTRIAL'] = 1000\n",
    "display(df_fator.head())"
   ]
  },
  {
   "cell_type": "markdown",
   "metadata": {},
   "source": [
    "Por fim, coloque \n",
    "\n",
    "df_dados.to_excel('Nome_do_novo_arquivo.xlsx', index=False)\n",
    "\n",
    "para criar um novo arquivo"
   ]
  },
  {
   "cell_type": "code",
   "execution_count": null,
   "metadata": {},
   "outputs": [],
   "source": []
  }
 ],
 "metadata": {
  "kernelspec": {
   "display_name": "env",
   "language": "python",
   "name": "python3"
  },
  "language_info": {
   "codemirror_mode": {
    "name": "ipython",
    "version": 3
   },
   "file_extension": ".py",
   "mimetype": "text/x-python",
   "name": "python",
   "nbconvert_exporter": "python",
   "pygments_lexer": "ipython3",
   "version": "3.10.6"
  }
 },
 "nbformat": 4,
 "nbformat_minor": 2
}
