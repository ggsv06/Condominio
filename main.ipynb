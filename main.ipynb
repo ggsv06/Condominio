{
 "cells": [
  {
   "cell_type": "code",
   "execution_count": null,
   "metadata": {},
   "outputs": [],
   "source": [
    "print('\\nCarregando...\\n')\n",
    "\n",
    "import pandas as pd\n",
    "import os\n",
    "import numpy as np\n",
    "import matplotlib.pyplot as plt\n",
    "from datetime import datetime\n",
    "import time\n"
   ]
  },
  {
   "cell_type": "markdown",
   "metadata": {},
   "source": [
    "# Importando tabelas e gerando listas"
   ]
  },
  {
   "cell_type": "code",
   "execution_count": null,
   "metadata": {},
   "outputs": [],
   "source": [
    "print('Carregando dados...')\n",
    "\n",
    "df_dados = pd.read_excel('dados.xlsx')\n",
    "df_fator = pd.read_excel('config.xlsx', 0)\n",
    "df_email = pd.read_excel('config.xlsx', 1)\n",
    "\n",
    "lst_meses = ['Jan', 'Fev', 'Mar', 'Abr', 'Mai', 'Jun', 'Jul', 'Ago', 'Set', 'Out', 'Nov', 'Dez']\n",
    "lst_meses_dados = ['Dez anterior','Jan', 'Fev', 'Mar', 'Abr', 'Mai', 'Jun', 'Jul', 'Ago', 'Set', 'Out', 'Nov']\n",
    "lst_layout = ['Galpões', 'Complemento','Registro', 'Empresa', 'Tipo de imóvel']\n",
    "lst_df_empresas = []\n"
   ]
  },
  {
   "cell_type": "markdown",
   "metadata": {},
   "source": [
    "# Gerando Data Frame das diferenças"
   ]
  },
  {
   "cell_type": "code",
   "execution_count": null,
   "metadata": {},
   "outputs": [],
   "source": [
    "df_diferença = df_dados.loc[:, lst_layout]\n",
    "\n",
    "for m, d in zip(lst_meses, lst_meses_dados):\n",
    "    dif = df_dados.loc[:, m] - df_dados.loc[:, d]\n",
    "    df_diferença.loc[:, m] = dif\n",
    "\n",
    "\n",
    "df_diferença = df_diferença.loc[~df_diferença['Jan'].isna(), :].reset_index(drop=True)\n",
    "\n",
    "df_fator.loc[3, 'Volume max de água m3'] = 999999\n"
   ]
  },
  {
   "cell_type": "markdown",
   "metadata": {},
   "source": [
    "# Definição de funções"
   ]
  },
  {
   "cell_type": "code",
   "execution_count": null,
   "metadata": {},
   "outputs": [],
   "source": [
    "# criação de função DataFrame para adição de row TOTAL\n",
    "def DF_total(df):\n",
    "    num_index = max(df.index) + 1\n",
    "    df.loc[num_index,:] = df.sum(numeric_only=True, axis=0)\n",
    "    df.loc[num_index, 'Galpões'] = 'TOTAL'\n",
    "    df.loc[df['Galpões'] == 'TOTAL', :].round(2)\n",
    "\n",
    "\n",
    "# criação de função DataFrame para cada empresa. Obs: a variavel ainda será definida antes do uso\n",
    "def DF_droper_empresa(df, comp):\n",
    "    df_temp = df.loc[df['Empresa'] == comp, :].reset_index(drop=True)\n",
    "    # df_temp = df.loc[df['Empresa'] == comp, ['Galpões','Complemento','Registro']+lst_meses_uteis].reset_index(drop=True)\n",
    "    # df_temp = df_temp.dropna(how='all', axis=1)\n",
    "    return df_temp\n",
    "\n",
    "\n",
    "# criando função de adição de linhas vazias\n",
    "def DF_empty_rows_comb(df):\n",
    "    \n",
    "    dc_empty = {col: [np.nan for _ in range(1)] for col in df.columns}\n",
    "    df_empty = pd.DataFrame(dc_empty)\n",
    "    df_new = pd.concat([df_empty, df, df_empty], axis=0, ignore_index=True)\n",
    "    return df_new\n"
   ]
  },
  {
   "cell_type": "markdown",
   "metadata": {},
   "source": [
    "# Retirando Colunas inutilizadas"
   ]
  },
  {
   "cell_type": "code",
   "execution_count": null,
   "metadata": {},
   "outputs": [],
   "source": [
    "print('█▒▒▒▒▒▒▒▒▒10%')\n",
    "\n",
    "# retirando colunas de meses não marcados para consumo de água\n",
    "df_diferença = df_diferença.dropna(how='all', axis=1).round(2)\n",
    "\n",
    "\n",
    "# retirando colunas de meses não marcados para leitura do hidrômetro\n",
    "df_dados = df_dados.dropna(how='all', axis=1).round(2)\n",
    "\n",
    "# lista com meses completos\n",
    "lst_meses_uteis = df_diferença.columns.tolist()\n",
    "for i in ['Galpões', 'Complemento', 'Registro', 'Empresa', 'Tipo de imóvel']:\n",
    "    lst_meses_uteis.remove(i)\n"
   ]
  },
  {
   "cell_type": "markdown",
   "metadata": {},
   "source": [
    "# Gerando Data Frame dos preços"
   ]
  },
  {
   "cell_type": "code",
   "execution_count": null,
   "metadata": {},
   "outputs": [],
   "source": [
    "print('Gerando arquivo Tabela.xlsx...')\n",
    "# retirando informações de poço \n",
    "df_preço = df_diferença.loc[df_diferença['Galpões'] != 'Poço', lst_layout]\n",
    "\n",
    "\n",
    "# calculando e multiplicando o fator para cada diferença. O loop m: meses ; loop type: tipo de imóvel ; loop index: para cada intervalo multiplicador\n",
    "for m in lst_meses_uteis:\n",
    "    \n",
    "    for type in ['Industrial', 'Residencial']:\n",
    "        df_preço.loc[(df_diferença[m] < df_fator.loc[0,'Volume max de água m3']) & (df_diferença['Tipo de imóvel'] == type), m] = df_fator.loc[0, f'Fator {type}']\n",
    "        \n",
    "        for index in range(1, 4):\n",
    "            df_preço_temp = df_diferença.loc[(df_diferença[m] < df_fator.loc[index,'Volume max de água m3']) & (df_diferença['Tipo de imóvel'] == type) & (df_diferença[m] >= df_fator.loc[index, 'Volume min de água m3']), m]  \n",
    "            df_preço.loc[(df_diferença[m] < df_fator.loc[index,'Volume max de água m3']) & (df_diferença['Tipo de imóvel'] == type) & (df_diferença[m] >= df_fator.loc[index, 'Volume min de água m3']), m] = df_preço_temp * df_fator.loc[index, f'Fator {type}']\n",
    "\n",
    "\n",
    "# retirando colunas de meses não marcados\n",
    "df_preço = df_preço.dropna(how='all', axis=1)\n",
    "\n",
    "# TOTAL\n",
    "DF_total(df_preço)\n",
    "df_preço = df_preço.round(2)\n"
   ]
  },
  {
   "cell_type": "markdown",
   "metadata": {},
   "source": [
    "# Formatação e geração de arquivo Tabela.xlsx"
   ]
  },
  {
   "cell_type": "code",
   "execution_count": null,
   "metadata": {},
   "outputs": [],
   "source": [
    "\n",
    "\n",
    "# formatação R$ em um novo DataFrame\n",
    "df_preço_formatado = df_preço.loc[:,:]\n",
    "df_preço_formatado[lst_meses_uteis] = df_preço_formatado[lst_meses_uteis].map(lambda x: f'R$ {x}')\n",
    "\n",
    "# formatação m3 em um novo DataFrame\n",
    "df_diferença_formatado = df_diferença.loc[:,:]\n",
    "df_diferença_formatado = df_diferença_formatado.round(2)\n",
    "df_diferença_formatado[lst_meses_uteis] = df_diferença_formatado[lst_meses_uteis].map(lambda x: f'{x} m³')\n",
    "\n",
    "# criação de arquivo excel\n",
    "with pd.ExcelWriter(\"Tabela.xlsx\", engine=\"openpyxl\") as writer:\n",
    "    df_preço_formatado.to_excel(writer, sheet_name=\"Custo água\", index=False)\n",
    "\n",
    "# criação de arquivo excel\n",
    "with pd.ExcelWriter(\"Tabela.xlsx\", engine=\"openpyxl\", mode=\"a\") as writer:\n",
    "    df_diferença_formatado.to_excel(writer, sheet_name=\"Consumo água\", index=False)\n",
    "    "
   ]
  },
  {
   "cell_type": "markdown",
   "metadata": {},
   "source": [
    "# Separando arquivos na pasta compartilhamento por empresa"
   ]
  },
  {
   "cell_type": "code",
   "execution_count": null,
   "metadata": {},
   "outputs": [],
   "source": [
    "# if not os.path.exists(r'compartilhamento'):\n",
    "#     os.mkdir(r'compartilhamento')\n",
    "\n",
    "\n",
    "# lista de empresas\n",
    "lst_empresa = df_preço['Empresa'].value_counts().index.tolist()\n",
    "\n",
    "\n",
    "for comp in lst_empresa:\n",
    "\n",
    "    # criação de DataFrame do custo $ para cada empresa\n",
    "    # criação de DataFrame do consumo m3 para cada empresa\n",
    "    # criação de DataFrame do registro para cada empresa\n",
    "    df_preço_temp = DF_droper_empresa(df_preço, comp)\n",
    "    df_diferença_temp = DF_droper_empresa(df_diferença, comp)\n",
    "    df_dados_temp = DF_droper_empresa(df_dados, comp)\n",
    "    \n",
    "    # implementação de TOTAL para custo $\n",
    "    # implementação de TOTAL para consumo m3\n",
    "    if max(df_preço_temp.index) > 0:\n",
    "        DF_total(df_preço_temp)\n",
    "    if max(df_diferença_temp.index) > 0:\n",
    "        DF_total(df_diferença_temp)\n",
    "    \n",
    "    # formatação de R$\n",
    "    # formatação de m3\n",
    "    df_preço_temp[lst_meses_uteis] = df_preço_temp[lst_meses_uteis].map(lambda x: f'R$ {round(x, 2)}')\n",
    "    df_diferença_temp[lst_meses_uteis] = df_diferença_temp[lst_meses_uteis].map(lambda x: f'{x:.1f} m³')\n",
    "\n",
    "    \n",
    "\n",
    "    # empty rows\n",
    "    df_dados_temp = DF_empty_rows_comb(df_dados_temp)\n",
    "    df_diferença_temp = DF_empty_rows_comb(df_diferença_temp)\n",
    "    df_preço_temp = DF_empty_rows_comb(df_preço_temp)\n",
    "    # informações de cada tabela\n",
    "    df_dados_temp.loc[0,'Galpões'] = 'LEITURA'\n",
    "    df_preço_temp.loc[0,'Galpões'] = 'CUSTO'\n",
    "    df_diferença_temp.loc[0,'Galpões'] = 'CONSUMO '\n",
    "    \n",
    "    \n",
    "    # combinando DataFrames\n",
    "    df_final_formatado_temp = pd.concat([df_dados_temp, df_diferença_temp, df_preço_temp], axis=0, ).reset_index(drop=True).dropna(how='all', axis=1)\n",
    "    \n",
    "    df_final_formatado_temp = df_final_formatado_temp.drop(max(df_final_formatado_temp.index) ,axis=0)\n",
    "    \n",
    "    # geração de arquivo excel\n",
    "    # df_final_formatado_temp.to_excel(fr'compartilhamento\\{comp}.xlsx', index=False)\n",
    "\n",
    "    df_final_formatado_temp = df_final_formatado_temp.fillna('')\n",
    "    \n",
    "    # adicionando DataFrames para uma lista\n",
    "    lst_df_empresas.append(df_final_formatado_temp)\n",
    "    "
   ]
  },
  {
   "cell_type": "markdown",
   "metadata": {},
   "source": [
    "# Gerando gráficos internos \n",
    "(Consumo de água x mês)"
   ]
  },
  {
   "cell_type": "code",
   "execution_count": null,
   "metadata": {},
   "outputs": [],
   "source": [
    "# # Gerando figura com gráficos da diferença \n",
    "# fig_int = plt.figure(figsize=(30,80))\n",
    "# fig_int.suptitle('Gráficos consumo por mês de cada galpão/ casa/ poço')\n",
    "\n",
    "\n"
   ]
  },
  {
   "cell_type": "markdown",
   "metadata": {},
   "source": [
    "# Gerando gráficos individuais com tabelas em pdf para cada empresa"
   ]
  },
  {
   "cell_type": "markdown",
   "metadata": {},
   "source": [
    "# Importando bibliotecas"
   ]
  },
  {
   "cell_type": "code",
   "execution_count": null,
   "metadata": {},
   "outputs": [],
   "source": [
    "print('Gerando arquivos pdf...')\n",
    "\n",
    "from reportlab.lib.pagesizes import landscape, A4, A3\n",
    "from reportlab.platypus import SimpleDocTemplate, Table, TableStyle, Image, Spacer\n",
    "from reportlab.lib import colors\n",
    "from reportlab.lib.units import inch\n",
    "from reportlab.lib.styles import getSampleStyleSheet\n",
    "from reportlab.platypus import Paragraph\n",
    "from reportlab.pdfgen import canvas\n",
    "import io\n",
    "\n",
    "if not os.path.exists(r'compartilhamento pdf'):\n",
    "    os.mkdir(r'compartilhamento pdf')"
   ]
  },
  {
   "cell_type": "code",
   "execution_count": null,
   "metadata": {},
   "outputs": [],
   "source": [
    "class FooterDocTemplate(SimpleDocTemplate):\n",
    "    def __init__(self, *args, **kwargs):\n",
    "        self.footer_text = kwargs.pop('footer_text', '')\n",
    "        SimpleDocTemplate.__init__(self, *args, **kwargs)\n",
    "    \n",
    "    def afterFlowable(self, flowable):\n",
    "        if self.canv.getPageNumber() == 1:\n",
    "            self._draw_footer()\n",
    "    \n",
    "    def _draw_footer(self):\n",
    "        self.canv.saveState()\n",
    "        self.canv.setFont('Helvetica', 15)\n",
    "        width, height = self.pagesize\n",
    "        self.canv.drawString(inch, 0.5 * inch, self.footer_text)\n",
    "        self.canv.restoreState()"
   ]
  },
  {
   "cell_type": "code",
   "execution_count": null,
   "metadata": {},
   "outputs": [],
   "source": [
    "for df, comp in zip(lst_df_empresas, lst_empresa):\n",
    "    \n",
    "    # DataFrame importante\n",
    "    df_para_grafico = DF_droper_empresa(df_diferença, comp)\n",
    "    df_para_grafico = df_para_grafico.drop(['Registro', 'Complemento', 'Empresa', 'Tipo de imóvel'], axis=1)\n",
    "\n",
    "    # Empresas que possuem mais de um galpão visualizarão somente o gráfico total\n",
    "    if max(df_para_grafico.index) > 0:\n",
    "        DF_total(df_para_grafico)\n",
    "        # df_para_grafico = df_para_grafico.loc[df_para_grafico['Galpões'] == 'TOTAL', :]\n",
    "        \n",
    "        \n",
    "    df_para_grafico.index = df_para_grafico.loc[:, 'Galpões'].tolist()\n",
    "    \n",
    "    df = df.drop(['Tipo de imóvel', 'Empresa'], axis=1)\n",
    "\n",
    "    \n",
    "    # Step 2: Create a graph using Matplotlib\n",
    "    plt.figure()\n",
    "    df_para_grafico.plot(kind='bar')\n",
    "    plt.title(f'Gráfico de consumo de água para cada mês ({comp})')\n",
    "    plt.ylabel('Consumo de água em m³')\n",
    "    plt.xticks(rotation=0)\n",
    "\n",
    "    # Place the legend outside the plot area\n",
    "    plt.legend(loc='upper left', bbox_to_anchor=(1.0, 1.0))\n",
    "    fig = plt.gcf()\n",
    "    fig.set_size_inches(10, 6)\n",
    "\n",
    "    # Save the graph to a BytesIO object\n",
    "    graph_buffer = io.BytesIO()\n",
    "    plt.savefig(graph_buffer, format='png', dpi=500)\n",
    "    graph_buffer.seek(0)\n",
    "    \n",
    "    # Step 3: Convert the DataFrame to a table that can be added to the PDF\n",
    "    data_for_pdf = [df.columns.values.tolist()] + df.values.tolist()\n",
    "\n",
    "    # Step 4: Create a PDF document\n",
    "    pdf_buffer = io.BytesIO()\n",
    "    footer_text = f'Arquivo gerado em: {datetime.now().strftime(\"%d-%m-%Y %H:%M\")}'\n",
    "    pdf = FooterDocTemplate(\n",
    "        pdf_buffer, \n",
    "        pagesize=landscape(A3),\n",
    "        leftMargin=0.2 * inch,\n",
    "        rightMargin=0.2 * inch,\n",
    "        topMargin=0.2 * inch,\n",
    "        bottomMargin=0.2 * inch,\n",
    "        footer_text=footer_text\n",
    "    )\n",
    "\n",
    "    elements = []\n",
    "\n",
    "    # Create the table\n",
    "    table = Table(data_for_pdf, colWidths=[1.0 * inch] * len(df.columns))\n",
    "    table.setStyle(TableStyle([\n",
    "        ('BACKGROUND', (0, 0), (-1, 0), colors.grey),\n",
    "        ('TEXTCOLOR', (0, 0), (-1, 0), colors.whitesmoke),\n",
    "        ('ALIGN', (0, 0), (-1, -1), 'CENTER'),\n",
    "        ('FONTNAME', (0, 0), (-1, 0), 'Helvetica-Bold'),\n",
    "        ('BOTTOMPADDING', (0, 0), (-1, 0), 12),\n",
    "        ('BACKGROUND', (0, 1), (-1, -1), colors.beige),\n",
    "        ('GRID', (0, 0), (-1, -1), 1, colors.black),\n",
    "    ]))\n",
    "    elements.append(table)\n",
    "\n",
    "    # Add a spacer for better spacing between table and graph\n",
    "    elements.append(Spacer(1, 0.5 * inch))  # Adjust the space as needed\n",
    "\n",
    "    # Add the graph image to the PDF\n",
    "    graph_image = Image(graph_buffer)\n",
    "    graph_image.drawHeight = 6 * inch\n",
    "    graph_image.drawWidth = 15 * inch\n",
    "    elements.append(graph_image)\n",
    "\n",
    "    \n",
    "\n",
    "    # Build the PDF\n",
    "    pdf.build(elements)\n",
    "    pdf_buffer.seek(0)\n",
    "\n",
    "    # Save the PDF to a file\n",
    "    with open(f'compartilhamento pdf\\{comp}.pdf', 'wb') as f:\n",
    "        f.write(pdf_buffer.read())\n",
    "\n",
    "\n"
   ]
  },
  {
   "cell_type": "markdown",
   "metadata": {},
   "source": [
    "# Enviar emails"
   ]
  },
  {
   "cell_type": "code",
   "execution_count": null,
   "metadata": {},
   "outputs": [],
   "source": [
    "print('████▒▒▒▒▒▒30%')\n",
    "import smtplib\n",
    "import email\n",
    "from email.mime.multipart import MIMEMultipart\n",
    "from email.mime.text import MIMEText\n",
    "from email.mime.base import MIMEBase\n",
    "from email import encoders\n",
    "from datetime import datetime"
   ]
  },
  {
   "cell_type": "code",
   "execution_count": null,
   "metadata": {},
   "outputs": [],
   "source": [
    "# email e senha para enviar\n",
    "email_wv = df_email.loc[0, 'email empresa']\n",
    "password = df_email.loc[0, 'senha']\n",
    "\n",
    "\n",
    "# lista de informações sobre as Empresas\n",
    "lst_email_empresa = df_email.loc[:, 'Empresa destinatária'].dropna().tolist()\n",
    "lst_email_email_empresa = df_email.loc[:, 'email empresa'].tolist()\n",
    "del lst_email_email_empresa[0]\n",
    "\n",
    "\n",
    "# lista para retorno\n",
    "lst_email_email_retorno = df_email.loc[:, 'emails de retorno'].dropna().tolist()\n",
    "\n",
    "\n",
    "\n",
    "\n",
    "    "
   ]
  },
  {
   "cell_type": "code",
   "execution_count": null,
   "metadata": {},
   "outputs": [],
   "source": [
    "print('Enviando emails...')\n",
    "lst_sucesso = []\n",
    "for comp, ecomp in zip(lst_email_empresa, lst_email_email_empresa):\n",
    "    lst_temp = []\n",
    "    lst_temp = [ecomp] + lst_email_email_retorno\n",
    "    filename = f\"compartilhamento pdf\\{comp}.pdf\"\n",
    "\n",
    "    corpo_email = f\"\"\"\n",
    "    <p>Segue relatório em anexo.</p>\n",
    "    <p><b>Favor confirmar o recebimento.</b></p>\n",
    "    \"\"\"\n",
    "    data_envio = datetime.now().strftime(\"%m-%Y\")\n",
    "\n",
    "    # Create the email message\n",
    "    msg = MIMEMultipart()\n",
    "    msg['Subject'] = f\"Relatório Consumo Água {data_envio}\"\n",
    "    msg['From'] = email_wv\n",
    "    msg['To'] = ', '.join(lst_temp)  # Join the list of recipients into a single string\n",
    "\n",
    "    # Attach the body\n",
    "    msg.attach(MIMEText(corpo_email, 'html'))  # Specify UTF-8 encoding\n",
    "\n",
    "    # Attach the file\n",
    "    with open(filename, \"rb\") as attachment:\n",
    "        part = MIMEBase(\"application\", \"octet-stream\")\n",
    "        part.set_payload(attachment.read())\n",
    "        encoders.encode_base64(part)\n",
    "        part.add_header(\n",
    "            \"Content-Disposition\",\n",
    "            f\"attachment; filename= {filename}\",\n",
    "        )\n",
    "        msg.attach(part)\n",
    "\n",
    "    # Connect to the SMTP server and send the email\n",
    "    try:\n",
    "        s = smtplib.SMTP('smtp.gmail.com', 587)\n",
    "        s.starttls()\n",
    "        s.login(email_wv, password)\n",
    "        s.sendmail(email_wv, lst_temp, msg.as_string().encode('utf-8'))  # Ensure UTF-8 encoding\n",
    "        lst_sucesso.append(comp)\n",
    "    except Exception as e:\n",
    "        print(f\"Error: {e}\")\n",
    "    finally:\n",
    "        s.quit()\n",
    "\n",
    "if len(lst_sucesso) == len(lst_email_empresa):\n",
    "    print('██████████100%\\n')\n",
    "    time.sleep(1)\n",
    "    for comp, ecomp in zip(lst_email_empresa, lst_email_email_empresa):\n",
    "        print(f\"Email enviado para {ecomp} ({comp}) com sucesso!\")\n"
   ]
  }
 ],
 "metadata": {
  "kernelspec": {
   "display_name": "env",
   "language": "python",
   "name": "python3"
  },
  "language_info": {
   "codemirror_mode": {
    "name": "ipython",
    "version": 3
   },
   "file_extension": ".py",
   "mimetype": "text/x-python",
   "name": "python",
   "nbconvert_exporter": "python",
   "pygments_lexer": "ipython3",
   "version": "3.10.6"
  }
 },
 "nbformat": 4,
 "nbformat_minor": 2
}
