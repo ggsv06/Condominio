{
 "cells": [
  {
   "cell_type": "code",
   "execution_count": 1,
   "metadata": {},
   "outputs": [],
   "source": [
    "import pandas as pd\n",
    "import os\n",
    "import numpy as np"
   ]
  },
  {
   "cell_type": "markdown",
   "metadata": {},
   "source": [
    "# Importando tabelas e gerando listas"
   ]
  },
  {
   "cell_type": "code",
   "execution_count": 2,
   "metadata": {},
   "outputs": [],
   "source": [
    "df_dados = pd.read_excel('dados.xlsx')\n",
    "df_fator = pd.read_excel('fatores.xlsx')\n",
    "\n",
    "lst_meses = ['Jan', 'Fev', 'Mar', 'Abr', 'Mai', 'Jun', 'Jul', 'Ago', 'Set', 'Out', 'Nov', 'Dez']\n",
    "lst_meses_dados = ['Dez anterior','Jan', 'Fev', 'Mar', 'Abr', 'Mai', 'Jun', 'Jul', 'Ago', 'Set', 'Out', 'Nov']\n",
    "lst_layout = ['Galpões', 'Complemento','Registro', 'Empresa', 'Tipo de imóvel']\n",
    "lst_df_empresas = []\n"
   ]
  },
  {
   "cell_type": "markdown",
   "metadata": {},
   "source": [
    "# Gerando Data Frame das diferenças"
   ]
  },
  {
   "cell_type": "code",
   "execution_count": 3,
   "metadata": {},
   "outputs": [],
   "source": [
    "df_diferença = df_dados.loc[:, lst_layout]\n",
    "\n",
    "for m, d in zip(lst_meses, lst_meses_dados):\n",
    "    dif = df_dados.loc[:, m] - df_dados.loc[:, d]\n",
    "    df_diferença.loc[:, m] = dif\n",
    "\n",
    "\n",
    "df_diferença = df_diferença.loc[~df_diferença['Jan'].isna(), :].reset_index(drop=True)\n",
    "\n",
    "df_fator.loc[3, 'Volume max de água m3'] = 999999\n"
   ]
  },
  {
   "cell_type": "markdown",
   "metadata": {},
   "source": [
    "# Definição de funções"
   ]
  },
  {
   "cell_type": "code",
   "execution_count": 4,
   "metadata": {},
   "outputs": [],
   "source": [
    "# criação de função DataFrame para adição de row TOTAL\n",
    "def DF_total(df):\n",
    "    num_index = df['Registro'].value_counts().sum()\n",
    "    df.loc[num_index,:] = df.sum(numeric_only=True, axis=0)\n",
    "    df.loc[num_index, 'Galpões'] = 'TOTAL'\n",
    "\n",
    "\n",
    "# criação de função DataFrame para cada empresa. Obs: a variavel ainda será definida antes do uso\n",
    "def DF_droper_empresa(df, comp):\n",
    "    df_temp = df.loc[df['Empresa'] == comp, :].reset_index(drop=True)\n",
    "    # df_temp = df.loc[df['Empresa'] == comp, ['Galpões','Complemento','Registro']+lst_meses_uteis].reset_index(drop=True)\n",
    "    # df_temp = df_temp.dropna(how='all', axis=1)\n",
    "    return df_temp\n",
    "\n",
    "\n",
    "# criando função de adição de linhas vazias\n",
    "def DF_empty_rows_comb(df):\n",
    "    \n",
    "    dc_empty = {col: [np.nan for _ in range(1)] for col in df.columns}\n",
    "    df_empty = pd.DataFrame(dc_empty)\n",
    "    df_new = pd.concat([df_empty, df, df_empty], axis=0, ignore_index=True)\n",
    "    return df_new\n"
   ]
  },
  {
   "cell_type": "markdown",
   "metadata": {},
   "source": [
    "# Retirando Colunas inutilizadas"
   ]
  },
  {
   "cell_type": "code",
   "execution_count": 5,
   "metadata": {},
   "outputs": [],
   "source": [
    "# retirando colunas de meses não marcados para consumo de água\n",
    "df_diferença = df_diferença.dropna(how='all', axis=1)\n",
    "\n",
    "\n",
    "# retirando colunas de meses não marcados para leitura do hidrômetro\n",
    "df_dados = df_dados.dropna(how='all', axis=1)\n",
    "\n",
    "\n",
    "# lista com meses completos\n",
    "lst_meses_uteis = df_diferença.columns.tolist()\n",
    "for i in ['Galpões', 'Complemento', 'Registro', 'Empresa', 'Tipo de imóvel']:\n",
    "    lst_meses_uteis.remove(i)\n"
   ]
  },
  {
   "cell_type": "markdown",
   "metadata": {},
   "source": [
    "# Gerando Data Frame dos preços"
   ]
  },
  {
   "cell_type": "code",
   "execution_count": 6,
   "metadata": {},
   "outputs": [],
   "source": [
    "# retirando informações de poço \n",
    "df_preço = df_diferença.loc[df_diferença['Galpões'] != 'Poço', lst_layout]\n",
    "\n",
    "\n",
    "# calculando e multiplicando o fator para cada diferença. O loop m: meses ; loop type: tipo de imóvel ; loop index: para cada intervalo multiplicador\n",
    "for m in lst_meses_uteis:\n",
    "    \n",
    "    for type in ['Industrial', 'Residencial']:\n",
    "        df_preço.loc[(df_diferença[m] < df_fator.loc[0,'Volume max de água m3']) & (df_diferença['Tipo de imóvel'] == type), m] = df_fator.loc[0, f'Fator {type}']\n",
    "        \n",
    "        for index in range(1, 4):\n",
    "            df_preço_temp = df_diferença.loc[(df_diferença[m] < df_fator.loc[index,'Volume max de água m3']) & (df_diferença['Tipo de imóvel'] == type) & (df_diferença[m] >= df_fator.loc[index, 'Volume min de água m3']), m]  \n",
    "            df_preço.loc[(df_diferença[m] < df_fator.loc[index,'Volume max de água m3']) & (df_diferença['Tipo de imóvel'] == type) & (df_diferença[m] >= df_fator.loc[index, 'Volume min de água m3']), m] = df_preço_temp * df_fator.loc[index, f'Fator {type}']\n",
    "\n",
    "\n",
    "# retirando colunas de meses não marcados\n",
    "df_preço = df_preço.dropna(how='all', axis=1)\n",
    "\n",
    "# TOTAL\n",
    "DF_total(df_preço)\n",
    "df_preço = df_preço.round(2)\n"
   ]
  },
  {
   "cell_type": "markdown",
   "metadata": {},
   "source": [
    "# Formatação e geração de arquivo Tabela.xlsx"
   ]
  },
  {
   "cell_type": "code",
   "execution_count": null,
   "metadata": {},
   "outputs": [],
   "source": [
    "# formatação R$ em um novo DataFrame\n",
    "df_preço_formatado = df_preço.loc[:,:]\n",
    "df_preço_formatado[lst_meses_uteis] = df_preço_formatado[lst_meses_uteis].map(lambda x: f'R$ {x}')\n",
    "\n",
    "# formatação m3 em um novo DataFrame\n",
    "df_diferença_formatado = df_diferença.loc[:,:]\n",
    "df_diferença_formatado = df_diferença_formatado.round(2)\n",
    "df_diferença_formatado[lst_meses_uteis] = df_diferença_formatado[lst_meses_uteis].map(lambda x: f'{x} m³')\n",
    "\n",
    "# criação de arquivo excel\n",
    "with pd.ExcelWriter(\"Tabela.xlsx\", engine=\"openpyxl\") as writer:\n",
    "    df_preço_formatado.to_excel(writer, sheet_name=\"Custo água\", index=False)\n",
    "\n",
    "# criação de arquivo excel\n",
    "with pd.ExcelWriter(\"Tabela.xlsx\", engine=\"openpyxl\", mode=\"a\") as writer:\n",
    "    df_diferença_formatado.to_excel(writer, sheet_name=\"Consumo água\", index=False)\n",
    "    "
   ]
  },
  {
   "cell_type": "markdown",
   "metadata": {},
   "source": [
    "# Separando arquivos na pasta compartilhamento por empresa"
   ]
  },
  {
   "cell_type": "code",
   "execution_count": 7,
   "metadata": {},
   "outputs": [],
   "source": [
    "if not os.path.exists(r'compartilhamento'):\n",
    "    os.mkdir(r'compartilhamento')\n",
    "\n",
    "\n",
    "# lista de empresas\n",
    "lst_empresa = df_preço['Empresa'].value_counts().index.tolist()\n",
    "\n",
    "\n",
    "for comp in lst_empresa:\n",
    "\n",
    "    # criação de DataFrame do custo $ para cada empresa\n",
    "    # criação de DataFrame do consumo m3 para cada empresa\n",
    "    # criação de DataFrame do registro para cada empresa\n",
    "    df_preço_temp = DF_droper_empresa(df_preço, comp)\n",
    "    df_diferença_temp = DF_droper_empresa(df_diferença, comp)\n",
    "    df_dados_temp = DF_droper_empresa(df_dados, comp)\n",
    "\n",
    "    # implementação de TOTAL para custo $\n",
    "    # implementação de TOTAL para consumo m3\n",
    "    DF_total(df_preço_temp)\n",
    "    DF_total(df_diferença_temp)\n",
    "    \n",
    "    \n",
    "    # formatação de R$\n",
    "    # formatação de m3\n",
    "    df_preço_temp[lst_meses_uteis] = df_preço_temp[lst_meses_uteis].map(lambda x: f'R$ {x}')\n",
    "    df_diferença_temp[lst_meses_uteis] = df_diferença_temp[lst_meses_uteis].map(lambda x: f'{x:.1f} m³')\n",
    "\n",
    "\n",
    "    # empty rows\n",
    "    df_dados_temp = DF_empty_rows_comb(df_dados_temp)\n",
    "    df_diferença_temp = DF_empty_rows_comb(df_diferença_temp)\n",
    "    df_preço_temp = DF_empty_rows_comb(df_preço_temp)\n",
    "\n",
    "    # informações de cada tabela\n",
    "    df_dados_temp.loc[0,'Galpões'] = 'LEITURA HIDRÔMETROS'\n",
    "    df_preço_temp.loc[0,'Galpões'] = 'CUSTO ÁGUA'\n",
    "    df_diferença_temp.loc[0,'Galpões'] = 'CONSUMO ÁGUA'\n",
    "    \n",
    "    \n",
    "    # combinando DataFrames\n",
    "    df_final_formatado_temp = pd.concat([df_dados_temp, df_diferença_temp, df_preço_temp], axis=0, ).reset_index(drop=True)\n",
    "\n",
    "    \n",
    "\n",
    "    # adicionando DataFrames para uma lista\n",
    "    lst_df_empresas.append(df_final_formatado_temp)\n",
    "    \n",
    "    \n",
    "    # geração de arquivo excel\n",
    "    df_final_formatado_temp.to_excel(fr'compartilhamento\\{comp}.xlsx', index=False)\n",
    "\n",
    "    "
   ]
  }
 ],
 "metadata": {
  "kernelspec": {
   "display_name": "env",
   "language": "python",
   "name": "python3"
  },
  "language_info": {
   "codemirror_mode": {
    "name": "ipython",
    "version": 3
   },
   "file_extension": ".py",
   "mimetype": "text/x-python",
   "name": "python",
   "nbconvert_exporter": "python",
   "pygments_lexer": "ipython3",
   "version": "3.10.6"
  }
 },
 "nbformat": 4,
 "nbformat_minor": 2
}
