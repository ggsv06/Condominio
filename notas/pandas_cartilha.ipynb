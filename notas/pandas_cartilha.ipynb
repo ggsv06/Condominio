{
 "cells": [
  {
   "cell_type": "code",
   "execution_count": null,
   "metadata": {},
   "outputs": [],
   "source": [
    "import pandas as pd"
   ]
  },
  {
   "cell_type": "markdown",
   "metadata": {},
   "source": [
    "# Criando um Data Frame a partir de um dicionário do python  "
   ]
  },
  {
   "cell_type": "code",
   "execution_count": null,
   "metadata": {},
   "outputs": [],
   "source": [
    "# dataframe = pd.DataFrame()\n",
    "vendas = {'Data': ['15/02/2021', '16/02/2021'],\n",
    "          'valor': [500, 300],\n",
    "          'produto': ['feijão','arroz'],\n",
    "          'qtde': [50, 70],\n",
    "          }\n",
    "df_vendas = pd.DataFrame(vendas)"
   ]
  },
  {
   "cell_type": "markdown",
   "metadata": {},
   "source": [
    "# Visualização do data frame\n",
    "- print\n",
    "- display"
   ]
  },
  {
   "cell_type": "code",
   "execution_count": null,
   "metadata": {},
   "outputs": [],
   "source": [
    "print(f'{df_vendas}\\n')\n",
    "display(df_vendas)"
   ]
  },
  {
   "cell_type": "markdown",
   "metadata": {},
   "source": [
    "# ----- Importando arquivos -----\n",
    "- número após a vírgula representa qual a planilha do arquivo"
   ]
  },
  {
   "cell_type": "code",
   "execution_count": null,
   "metadata": {},
   "outputs": [],
   "source": [
    "df_dados = pd.read_excel('Dados_cartilha.xlsx', 0)\n",
    "display(df_dados)\n",
    "\n",
    "df_diferenca = pd.read_excel('Dados_cartilha.xlsx', 1)\n",
    "df_fator = pd.read_excel('Dados_cartilha.xlsx', 2)"
   ]
  },
  {
   "cell_type": "markdown",
   "metadata": {},
   "source": [
    "# ---- Visualização de dados simples e úteis ---- \n",
    "\n",
    "- head (mostra 5 primeiras linhas) / .head(n) / n = número de linhas que deseja\n",
    "- shape / mostra a quantidade de linhas e colunas\n",
    "- describe / estatístico. Pega todas as colunas numéricas e descreve informações / mean: média / std: desvio padrão / min / max / "
   ]
  },
  {
   "cell_type": "code",
   "execution_count": null,
   "metadata": {},
   "outputs": [],
   "source": [
    "display(df_dados.head())\n",
    "print(df_dados.shape)\n",
    "display(df_dados.describe())"
   ]
  },
  {
   "cell_type": "markdown",
   "metadata": {},
   "source": [
    "# ---- Visualizar cabeçalho ----"
   ]
  },
  {
   "cell_type": "code",
   "execution_count": null,
   "metadata": {},
   "outputs": [],
   "source": [
    "colunas = df_dados.columns\n",
    "print(colunas)"
   ]
  },
  {
   "cell_type": "markdown",
   "metadata": {},
   "source": [
    "# ---- Pegar 1 ou mais colunas (e os pd.Series) ----"
   ]
  },
  {
   "cell_type": "code",
   "execution_count": null,
   "metadata": {},
   "outputs": [],
   "source": [
    "galpões = df_dados['Galpões']\n",
    "print(galpões)\n",
    "\n",
    "df_dois_meses = df_dados[['Mai', 'Jun']]\n",
    "display(df_dois_meses.head())\n",
    "\n",
    "df_dados_industriais = df_dados.loc[df_dados['Tipo de imóvel'] == 'Industrial', ['Galpões', 'Tipo de imóvel', 'Jan', 'Fev', 'Mar']]\n",
    "display(df_dados_industriais.head())\n"
   ]
  },
  {
   "cell_type": "markdown",
   "metadata": {},
   "source": [
    "# ---- Pegar 1 célula ----"
   ]
  },
  {
   "cell_type": "code",
   "execution_count": null,
   "metadata": {},
   "outputs": [],
   "source": [
    "celula = df_dados.loc[6, 'Galpões']\n",
    "display(celula) "
   ]
  },
  {
   "cell_type": "markdown",
   "metadata": {},
   "source": [
    "# ---- Fórmulas do excel ----"
   ]
  },
  {
   "cell_type": "code",
   "execution_count": null,
   "metadata": {},
   "outputs": [],
   "source": [
    "df_diferenca['Jan'] = df_dados['Jan'] - df_dados['Dez anterior']\n",
    "display(df_diferenca.head())\n",
    "\n",
    "\n",
    "df_diferenca.loc[df_diferenca['Jan'] < df_fator.loc[0,'Volume max de água m3'], 'Fev'] = df_fator.loc[0,'Fator Industrial']\n",
    "display(df_diferenca.head())"
   ]
  },
  {
   "cell_type": "markdown",
   "metadata": {},
   "source": [
    "# ---- Modificar 1 ou mais células ----"
   ]
  },
  {
   "cell_type": "code",
   "execution_count": null,
   "metadata": {},
   "outputs": [],
   "source": [
    "# Modificando uma célula em específico\n",
    "df_dados.loc[0, 'Dez'] = 123456\n",
    "display(df_dados.head())\n",
    "\n",
    "# Modificando mais de uma célula a partir de condições\n",
    "df_fator.loc[df_fator['Tipo de fator'] == 'Multiplicador','Fator Industrial'] = 1000\n",
    "display(df_fator.head())"
   ]
  },
  {
   "cell_type": "markdown",
   "metadata": {},
   "source": [
    "Por fim, coloque \n",
    "\n",
    "df.to_excel('Nome_do_novo_arquivo.xlsx', index=False)\n",
    "\n",
    "para criar um novo arquivo"
   ]
  },
  {
   "cell_type": "markdown",
   "metadata": {},
   "source": [
    "# ---- Adicionar uma coluna ----"
   ]
  },
  {
   "cell_type": "code",
   "execution_count": null,
   "metadata": {},
   "outputs": [],
   "source": [
    "df_fator['Nova coluna'] = 0\n",
    "display(df_fator)\n",
    "\n",
    "df_fator.loc[:, 'Mais uma'] = 0"
   ]
  },
  {
   "cell_type": "markdown",
   "metadata": {},
   "source": [
    "# ---- Adicionar uma linha ----\n",
    "concat([... , ...])\n",
    "\n",
    ".reset_index(drop=True)\n",
    "reinicia o index"
   ]
  },
  {
   "cell_type": "code",
   "execution_count": null,
   "metadata": {},
   "outputs": [],
   "source": [
    "df_universal = pd.concat([df_diferenca, df_dados]).reset_index(drop=True)\n",
    "\n",
    "display(df_universal)"
   ]
  },
  {
   "cell_type": "markdown",
   "metadata": {},
   "source": [
    "# ---- Excluir uma linha ----\n",
    "df.drop(linha, axis=0)"
   ]
  },
  {
   "cell_type": "code",
   "execution_count": null,
   "metadata": {},
   "outputs": [],
   "source": [
    "df_fator = df_fator.drop(0, axis=0)\n",
    "display(df_fator)"
   ]
  },
  {
   "cell_type": "markdown",
   "metadata": {},
   "source": [
    "# ---- Excluir uma coluna ---- \n",
    "df.drop(coluna, axis=1)"
   ]
  },
  {
   "cell_type": "code",
   "execution_count": null,
   "metadata": {},
   "outputs": [],
   "source": [
    "df_fator = df_fator.drop('Fator Residencial', axis=1)\n",
    "display(df_fator)"
   ]
  },
  {
   "cell_type": "markdown",
   "metadata": {},
   "source": [
    "# Deletar linhas e colunas vazias\n"
   ]
  },
  {
   "cell_type": "code",
   "execution_count": null,
   "metadata": {},
   "outputs": [],
   "source": [
    "# Deletar linhas ou colunas completamente vazias / altere o axis= ao seu gosto\n",
    "df_universal = df_universal.dropna(how='all', axis=1)\n",
    "display(df_universal)\n",
    "\n",
    "# Deletar linhas que possuem pelo menos uma célula NaN\n",
    "df_universal = df_universal.dropna()\n",
    "display(df_universal)\n",
    "\n",
    "# Preencher valores vazios\n",
    "# Preenche as células vazias com a média .mean()\n",
    "\n",
    "df_fator['Volume max de água m3'] = df_fator['Volume max de água m3'].fillna(df_fator['Volume max de água m3'].mean())\n",
    "display(df_fator)\n",
    "\n",
    "# Preenchimento automatico com o valor de cima\n",
    "df_diferenca.loc[1] = df_diferenca.loc[1].fillna(2)\n",
    "\n",
    "df_diferenca = df_diferenca.ffill()\n",
    "display(df_diferenca)"
   ]
  },
  {
   "cell_type": "markdown",
   "metadata": {},
   "source": [
    "# ---- Conta quantas vezes aparece cada item de uma coluna ----\n",
    "- .value_counts()"
   ]
  },
  {
   "cell_type": "code",
   "execution_count": null,
   "metadata": {},
   "outputs": [],
   "source": [
    "industriais_vs_residenciais = df_dados['Tipo de imóvel'].value_counts()\n",
    "print(industriais_vs_residenciais)"
   ]
  },
  {
   "cell_type": "markdown",
   "metadata": {},
   "source": [
    "# ---- Agrupamentos e funções com linhas agrupadas ----\n",
    "- .groupby('Coluna')\n",
    "\n",
    "o complemento do groupby será executado nas outras colunas escolhidas "
   ]
  },
  {
   "cell_type": "code",
   "execution_count": null,
   "metadata": {},
   "outputs": [],
   "source": [
    "# Soma dos registros de Janeiro organizado por tipo de imovel\n",
    "somas_registros_Jan = df_dados[['Tipo de imóvel', 'Jan']].groupby('Tipo de imóvel').sum()\n",
    "display(somas_registros_Jan)"
   ]
  },
  {
   "cell_type": "markdown",
   "metadata": {},
   "source": [
    "# ---- Mesclagem de dados ---- \n",
    "df = df.merge(Outro df, on='Coluna comum')\n",
    "\n",
    "Mescla de maneira inteligente dois Data Frames "
   ]
  },
  {
   "cell_type": "markdown",
   "metadata": {},
   "source": [
    "# ---- Lista de uma coluna ----"
   ]
  },
  {
   "cell_type": "code",
   "execution_count": null,
   "metadata": {},
   "outputs": [],
   "source": [
    "s_empresa = df_dados['Empresa'].value_counts()\n",
    "lst_empresa = s_empresa.index.tolist()\n",
    "print(lst_empresa)\n",
    "\n",
    "lst_empresa_nan = df_dados['Empresa'].tolist()\n",
    "print(lst_empresa_nan)"
   ]
  },
  {
   "cell_type": "code",
   "execution_count": null,
   "metadata": {},
   "outputs": [],
   "source": [
    "# Renomear colunas\n",
    "\n",
    "df_preço_temp.rename(columns={'Galpões': 'CUSTO'}, inplace=True)\n",
    "df_diferença_temp.rename(columns={'Galpões': 'GASTO DE ÁGUA'}, inplace=True)\n",
    "df_dados_temp.rename(columns={'Galpões': 'LEITURA DO HIDRÔMETRO'}, inplace=True)"
   ]
  },
  {
   "cell_type": "code",
   "execution_count": null,
   "metadata": {},
   "outputs": [],
   "source": [
    "# Lista do cabeçalho\n",
    "l_col = df_dados.columns.tolist()"
   ]
  },
  {
   "cell_type": "markdown",
   "metadata": {},
   "source": [
    "# ---- Juntar dois DFs ----"
   ]
  },
  {
   "cell_type": "code",
   "execution_count": null,
   "metadata": {},
   "outputs": [],
   "source": [
    "import pandas as pd\n",
    "import numpy as np\n",
    "\n",
    "df = pd.DataFrame({'Courses': [\"GFG\", \"JS\", \"Python\", \"Numpy\"],\n",
    "                   'Fee': [20000, 25000, 22000, 24000]})\n",
    "\n",
    "df1 = pd.DataFrame({'Courses': [\"Matplotlib\", \"SSC\", \"CHSL\", \"Java\"],\n",
    "                    'Fee': [25000, 25200, 24500, 24900]})\n",
    "\n",
    "df2 = pd.DataFrame({'Duration': ['30day', '40days', '35days', '60days'],\n",
    "                    'Discount': [1000, 2300, 2500, 2000]})\n",
    "\n",
    "print(\"DataFrame 1:\")\n",
    "print(df)\n",
    "print(\"DataFrame 2:\")\n",
    "print(df1)\n",
    "print(\"DataFrame 3:\")\n",
    "print(df2)"
   ]
  },
  {
   "cell_type": "code",
   "execution_count": null,
   "metadata": {},
   "outputs": [],
   "source": [
    "# concatenating df1 and df2 along rows\n",
    "vertical_concat = pd.concat([df, df1], axis=0)\n",
    "\n",
    "# concatenating df3 and df4 along columns\n",
    "horizontal_concat = pd.concat([df1, df2], axis=1)\n",
    "\n",
    "print(\"Vertical:\")\n",
    "print(vertical_concat)\n",
    "print(\"Horizontal:\")\n",
    "print(horizontal_concat)"
   ]
  }
 ],
 "metadata": {
  "kernelspec": {
   "display_name": "env",
   "language": "python",
   "name": "python3"
  },
  "language_info": {
   "codemirror_mode": {
    "name": "ipython",
    "version": 3
   },
   "file_extension": ".py",
   "mimetype": "text/x-python",
   "name": "python",
   "nbconvert_exporter": "python",
   "pygments_lexer": "ipython3",
   "version": "3.10.6"
  }
 },
 "nbformat": 4,
 "nbformat_minor": 2
}
