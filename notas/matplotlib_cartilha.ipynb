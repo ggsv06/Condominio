{
 "cells": [
  {
   "cell_type": "code",
   "execution_count": null,
   "metadata": {},
   "outputs": [],
   "source": [
    "import matplotlib.pyplot as plt"
   ]
  },
  {
   "cell_type": "markdown",
   "metadata": {},
   "source": [
    "https://www.google.com/url?q=https%3A%2F%2Fmatplotlib.org%2Fstable%2Fapi%2F_as_gen%2Fmatplotlib.pyplot.plot.html%3Fhighlight%3Dpyplot%2520plot%23matplotlib-pyplot-plot"
   ]
  },
  {
   "cell_type": "code",
   "execution_count": null,
   "metadata": {},
   "outputs": [],
   "source": [
    "x = [1, 2, 3, 4]\n",
    "y = [1, 2, 3, 2]\n",
    "\n",
    "plt.plot(x, y, label='nome para a função')\n",
    "plt.xlabel('eixo x')\n",
    "plt.ylabel('eixo y')\n",
    "plt.title('Título')\n",
    "plt.xticks([0,2,4,6])\n",
    "plt.yticks([-1,0,1,2,3,4,5])\n",
    "plt.legend()\n",
    "plt.show()"
   ]
  },
  {
   "cell_type": "markdown",
   "metadata": {},
   "source": [
    "# Legendas\n",
    "\n",
    "loc=: posição da legenda\\\n",
    "fontsize=: tamanho da letra"
   ]
  },
  {
   "cell_type": "code",
   "execution_count": null,
   "metadata": {},
   "outputs": [],
   "source": [
    "plt.plot(x, y, label='Grafico')\n",
    "plt.legend(loc=3, fontsize=23)\n",
    "plt.show()"
   ]
  },
  {
   "cell_type": "markdown",
   "metadata": {},
   "source": [
    "# Estilos de linhas\n",
    "linestyle= ou ls=\n",
    "\n",
    "'-' or 'solid'                  solid line\\\n",
    "'--' or 'dashed'                dashed line\\\n",
    "'-.' or 'dashdot'               dash-dotted line\\\n",
    "':' or 'dotted'                 dotted line\\\n",
    "'none', 'None', ' ', or ''      draw nothing\n",
    "\n",
    "linewidth= ou lw=\n",
    "\n",
    "https://www.google.com/url?q=https%3A%2F%2Fmatplotlib.org%2Fstable%2Fapi%2F_as_gen%2Fmatplotlib.lines.Line2D.html%23matplotlib.lines.Line2D.set_marker"
   ]
  },
  {
   "cell_type": "code",
   "execution_count": null,
   "metadata": {},
   "outputs": [],
   "source": [
    "plt.plot(x, y, linestyle='-.', color='#de00e6', linewidth=7)\n",
    "plt.show()"
   ]
  },
  {
   "cell_type": "markdown",
   "metadata": {},
   "source": [
    "# .scatter()\n",
    "\n",
    "https://www.google.com/url?q=https%3A%2F%2Fmatplotlib.org%2Fstable%2Fapi%2F_as_gen%2Fmatplotlib.pyplot.scatter.html%23matplotlib-pyplot-scatter"
   ]
  },
  {
   "cell_type": "code",
   "execution_count": null,
   "metadata": {},
   "outputs": [],
   "source": [
    "plt.scatter(x, y, color='b')\n",
    "plt.show()"
   ]
  },
  {
   "cell_type": "markdown",
   "metadata": {},
   "source": [
    "# .bar()\n",
    "\n",
    "https://www.google.com/url?q=https%3A%2F%2Fmatplotlib.org%2Fstable%2Fapi%2F_as_gen%2Fmatplotlib.pyplot.bar.html%23matplotlib-pyplot-bar"
   ]
  },
  {
   "cell_type": "code",
   "execution_count": null,
   "metadata": {},
   "outputs": [],
   "source": [
    "plt.bar(x, y, color='r')\n",
    "plt.show()"
   ]
  },
  {
   "cell_type": "markdown",
   "metadata": {},
   "source": [
    "# Mudando tipos de marcadores gráficos\n",
    "\n",
    "https://www.google.com/url?q=https%3A%2F%2Fmatplotlib.org%2Fstable%2Fapi%2Fmarkers_api.html%23module-matplotlib.markers"
   ]
  },
  {
   "cell_type": "code",
   "execution_count": null,
   "metadata": {},
   "outputs": [],
   "source": [
    "plt.scatter(x, y, marker='x')\n",
    "plt.show()"
   ]
  },
  {
   "cell_type": "markdown",
   "metadata": {},
   "source": [
    "# Alterando limites dos gráficos\n",
    "\n",
    "plt.axis(xmin=0, xmax=8, ymin=1, ymax=4)\\\n",
    "plt.axis('auto')\\\n",
    "plt.axis('square')\n",
    "\n",
    "https://www.google.com/url?q=https%3A%2F%2Fmatplotlib.org%2Fstable%2Fapi%2F_as_gen%2Fmatplotlib.pyplot.axis.html%23matplotlib.pyplot.axis"
   ]
  },
  {
   "cell_type": "code",
   "execution_count": null,
   "metadata": {},
   "outputs": [],
   "source": [
    "plt.plot(x, y)\n",
    "plt.axis(xmin=0, xmax=8, ymin=1, ymax=4)\n",
    "plt.show()"
   ]
  },
  {
   "cell_type": "markdown",
   "metadata": {},
   "source": [
    "# Figure\n",
    "\n",
    "https://www.google.com/url?q=https%3A%2F%2Fmatplotlib.org%2Fstable%2Fapi%2Ffigure_api.html%3Fhighlight%3Dsharex%23module-matplotlib.figure"
   ]
  },
  {
   "cell_type": "markdown",
   "metadata": {},
   "source": [
    "# Subplot\n",
    "\n",
    "plt.figure(figsize=(30,4)): cria uma figura com o tamanho em polegadas\\\n",
    "add_subplot(131): em 1 linha, com 3 colunas, gráfico no espaço 1\n",
    "\n",
    "https://www.google.com/url?q=https%3A%2F%2Fmatplotlib.org%2Fstable%2Fapi%2F_as_gen%2Fmatplotlib.pyplot.subplot.html"
   ]
  },
  {
   "cell_type": "code",
   "execution_count": null,
   "metadata": {},
   "outputs": [],
   "source": [
    "figura = plt.figure(figsize=(30,4))\n",
    "figura.suptitle('Título Geral')\n",
    "facecolor = 'blue'\n",
    "\n",
    "figura.add_subplot(131)\n",
    "plt.plot(x, y, label='Um dado qualquer')\n",
    "plt.legend()\n",
    "plt.title('Gráfico 1')\n",
    "\n",
    "figura.add_subplot(133)\n",
    "plt.scatter(x,y)\n",
    "plt.title('Gráfico 2')\n",
    "\n",
    "figura.add_subplot(132)\n",
    "plt.title('Gráfico 3')\n",
    "plt.bar(x, y)\n",
    "\n",
    "plt.savefig('grafico.png', dpi=100)\n",
    "plt.show(figura)"
   ]
  }
 ],
 "metadata": {
  "kernelspec": {
   "display_name": "env",
   "language": "python",
   "name": "python3"
  },
  "language_info": {
   "codemirror_mode": {
    "name": "ipython",
    "version": 3
   },
   "file_extension": ".py",
   "mimetype": "text/x-python",
   "name": "python",
   "nbconvert_exporter": "python",
   "pygments_lexer": "ipython3",
   "version": "3.10.6"
  }
 },
 "nbformat": 4,
 "nbformat_minor": 2
}
